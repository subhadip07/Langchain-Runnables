{
 "cells": [
  {
   "cell_type": "markdown",
   "id": "b45db0f9",
   "metadata": {},
   "source": [
    "### 3. runnable_parallel\n",
    "* RunnableParallel is a runnable primitive that allows multiple runnables  to execute in parallel. \n",
    "* Each runnable receives the same input and processes it independently, producing a dictionary \n",
    "of outputs."
   ]
  },
  {
   "cell_type": "code",
   "execution_count": 1,
   "id": "a6835f37",
   "metadata": {},
   "outputs": [
    {
     "data": {
      "text/plain": [
       "True"
      ]
     },
     "execution_count": 1,
     "metadata": {},
     "output_type": "execute_result"
    }
   ],
   "source": [
    "from langchain_groq import ChatGroq\n",
    "from langchain_core.prompts import PromptTemplate\n",
    "from langchain_core.output_parsers import StrOutputParser\n",
    "from dotenv import load_dotenv\n",
    "from langchain.schema.runnable import RunnableSequence, RunnableParallel\n",
    "\n",
    "load_dotenv()"
   ]
  },
  {
   "cell_type": "code",
   "execution_count": 2,
   "id": "645b0271",
   "metadata": {},
   "outputs": [],
   "source": [
    "prompt1 = PromptTemplate(\n",
    "    template='Generate a tweet about {topic}',\n",
    "    input_variables=['topic']\n",
    ")"
   ]
  },
  {
   "cell_type": "code",
   "execution_count": 3,
   "id": "4497854d",
   "metadata": {},
   "outputs": [],
   "source": [
    "prompt2 = PromptTemplate(\n",
    "    template='Generate a Linkedin post about {topic}',\n",
    "    input_variables=['topic']\n",
    ")"
   ]
  },
  {
   "cell_type": "code",
   "execution_count": 4,
   "id": "f0d707c2",
   "metadata": {},
   "outputs": [],
   "source": [
    "model = ChatGroq(model='llama-3.1-8b-instant')"
   ]
  },
  {
   "cell_type": "code",
   "execution_count": 5,
   "id": "348876ba",
   "metadata": {},
   "outputs": [],
   "source": [
    "parser = StrOutputParser()"
   ]
  },
  {
   "cell_type": "code",
   "execution_count": 6,
   "id": "ddd1d98b",
   "metadata": {},
   "outputs": [],
   "source": [
    "parallel_chain = RunnableParallel({\n",
    "    'tweet': RunnableSequence(prompt1, model, parser),\n",
    "    'linkedin': RunnableSequence(prompt2, model, parser)\n",
    "})"
   ]
  },
  {
   "cell_type": "code",
   "execution_count": 7,
   "id": "7e13629f",
   "metadata": {},
   "outputs": [],
   "source": [
    "result = parallel_chain.invoke({'topic':'Langgraph'})"
   ]
  },
  {
   "cell_type": "code",
   "execution_count": 8,
   "id": "c1c3fa6d",
   "metadata": {},
   "outputs": [
    {
     "name": "stdout",
     "output_type": "stream",
     "text": [
      "\"Exploring the world of graph theory, have you heard of Langraph? A graph where every vertex is a string of text and edges represent similarity or adjacency, opening new doors to complex data analysis and natural language processing #Langraph #GraphTheory #NLP\"\n"
     ]
    }
   ],
   "source": [
    "print(result['tweet'])"
   ]
  },
  {
   "cell_type": "code",
   "execution_count": 9,
   "id": "905c6274",
   "metadata": {},
   "outputs": [
    {
     "name": "stdout",
     "output_type": "stream",
     "text": [
      "**Introducing LangGraph: Revolutionizing Language Understanding**\n",
      "\n",
      "Hey fellow professionals and linguistics enthusiasts,\n",
      "\n",
      "I'm excited to introduce LangGraph, a cutting-edge technology that's changing the game when it comes to language understanding. As we navigate the complexities of human communication, LangGraph is empowering businesses and organizations to unlock new levels of insight and accuracy.\n",
      "\n",
      "**What is LangGraph?**\n",
      "\n",
      "LangGraph is an advanced graph-based language model that captures the nuances of language in a way that's unparalleled by traditional NLP approaches. By representing language as a complex network of relationships, LangGraph is able to analyze and interpret language in a more human-like way.\n",
      "\n",
      "**Key benefits:**\n",
      "\n",
      "- **Improved accuracy**: LangGraph's graph-based approach leads to more accurate language understanding, reducing errors and misinterpretations.\n",
      "- **Enhanced contextuality**: LangGraph captures the contextual relationships between words, phrases, and sentences, providing a deeper understanding of language.\n",
      "- **Increased efficiency**: LangGraph streamlines language processing, enabling faster and more efficient analysis and interpretation.\n",
      "\n",
      "**Real-world applications:**\n",
      "\n",
      "- **Sentiment analysis**: LangGraph's advanced understanding of language enables more accurate sentiment analysis, helping businesses make data-driven decisions.\n",
      "- **Language translation**: LangGraph's graph-based approach improves language translation accuracy, breaking down language barriers and facilitating global communication.\n",
      "- **Text summarization**: LangGraph's ability to analyze and interpret language enables more accurate text summarization, saving time and improving productivity.\n",
      "\n",
      "**Join the LangGraph community:**\n",
      "\n",
      "To learn more about LangGraph and its applications, join our community on LinkedIn and stay up-to-date with the latest developments.\n",
      "\n",
      "**Let's revolutionize language understanding together!**\n",
      "\n",
      "#LangGraph #LanguageUnderstanding #NLP #GraphBased #AI #MachineLearning #Linguistics #LanguageModel #Business #Efficiency #Accuracy #Contextuality #SentimentAnalysis #LanguageTranslation #TextSummarization\n"
     ]
    }
   ],
   "source": [
    "print(result['linkedin'])"
   ]
  }
 ],
 "metadata": {
  "kernelspec": {
   "display_name": "langchain-runnables",
   "language": "python",
   "name": "python3"
  },
  "language_info": {
   "codemirror_mode": {
    "name": "ipython",
    "version": 3
   },
   "file_extension": ".py",
   "mimetype": "text/x-python",
   "name": "python",
   "nbconvert_exporter": "python",
   "pygments_lexer": "ipython3",
   "version": "3.13.1"
  }
 },
 "nbformat": 4,
 "nbformat_minor": 5
}
