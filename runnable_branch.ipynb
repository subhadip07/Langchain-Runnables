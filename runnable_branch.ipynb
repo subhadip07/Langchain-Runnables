{
 "cells": [
  {
   "cell_type": "markdown",
   "id": "cb889ec0",
   "metadata": {},
   "source": [
    "### 5. RunnableBranch\n",
    "* RunnableBranchis a control flow componentin LangChain that allows you to conditionally route input data to different chains or runnablesbased on custom logic.\n",
    " \n",
    "* It functions like an if/elif/elseblock for chains —where you define a set of condition functions, each associated with a runnable (e.g., LLM call prompt chain, or tool). The first matching condition is executed. If no condition matches, a default runnableis used (if provided)."
   ]
  },
  {
   "cell_type": "code",
   "execution_count": 1,
   "id": "0eb68f1e",
   "metadata": {},
   "outputs": [
    {
     "data": {
      "text/plain": [
       "True"
      ]
     },
     "execution_count": 1,
     "metadata": {},
     "output_type": "execute_result"
    }
   ],
   "source": [
    "from langchain_groq import ChatGroq\n",
    "from langchain_core.prompts import PromptTemplate\n",
    "from langchain_core.output_parsers import StrOutputParser\n",
    "from dotenv import load_dotenv\n",
    "from langchain.schema.runnable import RunnableSequence, RunnableParallel, RunnablePassthrough, RunnableBranch, RunnableLambda\n",
    "\n",
    "load_dotenv()"
   ]
  },
  {
   "cell_type": "code",
   "execution_count": 2,
   "id": "251aa683",
   "metadata": {},
   "outputs": [],
   "source": [
    "prompt1 = PromptTemplate(\n",
    "    template='Write a detailed report on {topic}',\n",
    "    input_variables=['topic']\n",
    ")"
   ]
  },
  {
   "cell_type": "code",
   "execution_count": 3,
   "id": "057f3467",
   "metadata": {},
   "outputs": [],
   "source": [
    "prompt2 = PromptTemplate(\n",
    "    template='Summarize the following text \\n {text}',\n",
    "    input_variables=['text']\n",
    ")"
   ]
  },
  {
   "cell_type": "code",
   "execution_count": 4,
   "id": "6ac076dd",
   "metadata": {},
   "outputs": [],
   "source": [
    "model = ChatGroq(model='llama-3.1-8b-instant')"
   ]
  },
  {
   "cell_type": "code",
   "execution_count": 5,
   "id": "5ed2e900",
   "metadata": {},
   "outputs": [],
   "source": [
    "parser = StrOutputParser()"
   ]
  },
  {
   "cell_type": "code",
   "execution_count": 6,
   "id": "d47b4700",
   "metadata": {},
   "outputs": [],
   "source": [
    "report_gen_chain = prompt1 | model | parser"
   ]
  },
  {
   "cell_type": "code",
   "execution_count": 7,
   "id": "80e2e15f",
   "metadata": {},
   "outputs": [],
   "source": [
    "branch_chain = RunnableBranch(\n",
    "    (lambda x: len(x.split())>300, prompt2 | model | parser),\n",
    "    RunnablePassthrough()\n",
    ")"
   ]
  },
  {
   "cell_type": "code",
   "execution_count": 8,
   "id": "e3af3656",
   "metadata": {},
   "outputs": [],
   "source": [
    "final_chain = RunnableSequence(report_gen_chain, branch_chain)"
   ]
  },
  {
   "cell_type": "code",
   "execution_count": 9,
   "id": "7f7dc15e",
   "metadata": {},
   "outputs": [
    {
     "name": "stdout",
     "output_type": "stream",
     "text": [
      "The text provides a detailed report on the differences and similarities between machine learning and deep learning, two subfields of artificial intelligence (AI). Here's a summary:\n",
      "\n",
      "**Machine Learning:**\n",
      "\n",
      "- A subset of AI that involves training algorithms to learn from data and make predictions or decisions.\n",
      "- Categorized into three types: supervised learning, unsupervised learning, and reinforcement learning.\n",
      "- Applications include image classification, speech recognition, recommendation systems, and predictive maintenance.\n",
      "\n",
      "**Deep Learning:**\n",
      "\n",
      "- A subset of machine learning that involves the use of neural networks with multiple layers to learn complex patterns in data.\n",
      "- Inspired by the structure and function of the human brain, designed to learn from large datasets.\n",
      "- Categorized into two types: feedforward neural networks and recurrent neural networks.\n",
      "- Applications include natural language processing (NLP), computer vision, speech recognition, and robotics.\n",
      "\n",
      "**Key Differences:**\n",
      "\n",
      "- Complexity: Deep learning is generally more complex than machine learning and requires more computational resources.\n",
      "- Data Requirements: Deep learning requires large amounts of data to learn from, whereas machine learning can learn from smaller datasets.\n",
      "- Training Time: Deep learning takes longer to train than machine learning, often requiring hours or even days of training time.\n",
      "- Flexibility: Deep learning is more flexible than machine learning and can be used to solve a wide range of problems.\n",
      "- Interpretability: Deep learning is often less interpretable than machine learning, making it more difficult to understand how they arrive at their predictions.\n",
      "\n",
      "**Recommendations:**\n",
      "\n",
      "- Use machine learning for smaller datasets.\n",
      "- Use deep learning for large datasets and complex problems.\n",
      "- Use deep learning for applications that involve sequential data or visual data.\n",
      "\n",
      "**Future Research Directions:**\n",
      "\n",
      "- Explainability and interpretability of machine learning and deep learning algorithms.\n",
      "- Transfer learning to enable machine learning and deep learning algorithms to learn from one task and apply that knowledge to another task.\n",
      "- Adversarial attacks to detect and prevent attacks on machine learning and deep learning algorithms.\n"
     ]
    }
   ],
   "source": [
    "print(final_chain.invoke({'topic':'Machine Learning vs Deep Learning'}))"
   ]
  },
  {
   "cell_type": "code",
   "execution_count": null,
   "id": "ecd1f9d3",
   "metadata": {},
   "outputs": [],
   "source": []
  }
 ],
 "metadata": {
  "kernelspec": {
   "display_name": "langchain-runnables",
   "language": "python",
   "name": "python3"
  },
  "language_info": {
   "codemirror_mode": {
    "name": "ipython",
    "version": 3
   },
   "file_extension": ".py",
   "mimetype": "text/x-python",
   "name": "python",
   "nbconvert_exporter": "python",
   "pygments_lexer": "ipython3",
   "version": "3.13.1"
  }
 },
 "nbformat": 4,
 "nbformat_minor": 5
}
