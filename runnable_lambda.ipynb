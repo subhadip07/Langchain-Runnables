{
 "cells": [
  {
   "cell_type": "markdown",
   "id": "edd8f4eb",
   "metadata": {},
   "source": [
    "### 4. RunnableLambda\n",
    "* RunnableLambdais a runnable primitive that allows you to apply custom Python functions within an AI pipeline. \n",
    "* It acts as a middlewarebetween different AI components, enabling preprocessing, transformation, API calls, filtering, and post-processingin a LangChain workflow."
   ]
  },
  {
   "cell_type": "code",
   "execution_count": 1,
   "id": "d0a2997a",
   "metadata": {},
   "outputs": [
    {
     "data": {
      "text/plain": [
       "True"
      ]
     },
     "execution_count": 1,
     "metadata": {},
     "output_type": "execute_result"
    }
   ],
   "source": [
    "from langchain_groq import ChatGroq\n",
    "from langchain_core.prompts import PromptTemplate\n",
    "from langchain_core.output_parsers import StrOutputParser\n",
    "from dotenv import load_dotenv\n",
    "from langchain.schema.runnable import RunnableSequence, RunnableLambda, RunnablePassthrough, RunnableParallel\n",
    "\n",
    "load_dotenv()"
   ]
  },
  {
   "cell_type": "code",
   "execution_count": 2,
   "id": "d3466ed8",
   "metadata": {},
   "outputs": [],
   "source": [
    "def word_count(text):\n",
    "    return len(text.split())"
   ]
  },
  {
   "cell_type": "code",
   "execution_count": 3,
   "id": "f6449875",
   "metadata": {},
   "outputs": [],
   "source": [
    "prompt = PromptTemplate(\n",
    "    template='Write a joke about {topic}',\n",
    "    input_variables=['topic']\n",
    ")"
   ]
  },
  {
   "cell_type": "code",
   "execution_count": 4,
   "id": "7c21cd80",
   "metadata": {},
   "outputs": [],
   "source": [
    "model = ChatGroq(model='llama-3.1-8b-instant')"
   ]
  },
  {
   "cell_type": "code",
   "execution_count": 5,
   "id": "63971a8d",
   "metadata": {},
   "outputs": [],
   "source": [
    "parser = StrOutputParser()"
   ]
  },
  {
   "cell_type": "code",
   "execution_count": 7,
   "id": "409c770c",
   "metadata": {},
   "outputs": [],
   "source": [
    "joke_gen_chain = RunnableSequence(prompt, model, parser)"
   ]
  },
  {
   "cell_type": "code",
   "execution_count": 8,
   "id": "0d97a4a8",
   "metadata": {},
   "outputs": [],
   "source": [
    "parallel_chain = RunnableParallel({\n",
    "    'joke': RunnablePassthrough(),\n",
    "    'word_count': RunnableLambda(word_count)\n",
    "})"
   ]
  },
  {
   "cell_type": "code",
   "execution_count": 9,
   "id": "1ddaea91",
   "metadata": {},
   "outputs": [],
   "source": [
    "final_chain = RunnableSequence(joke_gen_chain, parallel_chain)"
   ]
  },
  {
   "cell_type": "code",
   "execution_count": 10,
   "id": "43fde723",
   "metadata": {},
   "outputs": [],
   "source": [
    "result = final_chain.invoke({'topic':'Machine Learning'})"
   ]
  },
  {
   "cell_type": "code",
   "execution_count": 11,
   "id": "5c8c1445",
   "metadata": {},
   "outputs": [],
   "source": [
    "final_result = \"\"\"{} \\n word count - {}\"\"\".format(result['joke'], result['word_count'])"
   ]
  },
  {
   "cell_type": "code",
   "execution_count": 12,
   "id": "10f7d90a",
   "metadata": {},
   "outputs": [
    {
     "name": "stdout",
     "output_type": "stream",
     "text": [
      "Why did the Machine Learning model go to therapy?\n",
      "\n",
      "Because it was struggling to generalize its emotions and was having trouble with overfitting to its relationship issues. \n",
      " word count - 27\n"
     ]
    }
   ],
   "source": [
    "print(final_result)"
   ]
  }
 ],
 "metadata": {
  "kernelspec": {
   "display_name": "langchain-runnables",
   "language": "python",
   "name": "python3"
  },
  "language_info": {
   "codemirror_mode": {
    "name": "ipython",
    "version": 3
   },
   "file_extension": ".py",
   "mimetype": "text/x-python",
   "name": "python",
   "nbconvert_exporter": "python",
   "pygments_lexer": "ipython3",
   "version": "3.13.1"
  }
 },
 "nbformat": 4,
 "nbformat_minor": 5
}
