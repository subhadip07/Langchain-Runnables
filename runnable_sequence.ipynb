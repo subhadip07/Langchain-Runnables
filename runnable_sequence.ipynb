{
 "cells": [
  {
   "cell_type": "markdown",
   "id": "de11efdd",
   "metadata": {},
   "source": [
    "### 1. RunnableSequence\n",
    "* RunnableSequence is a sequential chain of runnables in LangChain that executes each step one after another, passing the output of one step as the input to the next."
   ]
  },
  {
   "cell_type": "code",
   "execution_count": 2,
   "id": "a5cb6e89",
   "metadata": {},
   "outputs": [
    {
     "data": {
      "text/plain": [
       "True"
      ]
     },
     "execution_count": 2,
     "metadata": {},
     "output_type": "execute_result"
    }
   ],
   "source": [
    "from langchain_groq import ChatGroq\n",
    "from langchain_core.prompts import PromptTemplate\n",
    "from langchain_core.output_parsers import StrOutputParser\n",
    "from dotenv import load_dotenv\n",
    "from langchain.schema.runnable import RunnableSequence\n",
    "load_dotenv()"
   ]
  },
  {
   "cell_type": "code",
   "execution_count": 3,
   "id": "5d9229c2",
   "metadata": {},
   "outputs": [],
   "source": [
    "prompt1 = PromptTemplate(\n",
    "    template='Tell a fact about {topic}',\n",
    "    input_variables=['topic']\n",
    ")"
   ]
  },
  {
   "cell_type": "code",
   "execution_count": 4,
   "id": "6e4d72eb",
   "metadata": {},
   "outputs": [],
   "source": [
    "model = ChatGroq(model='llama-3.1-8b-instant')"
   ]
  },
  {
   "cell_type": "code",
   "execution_count": 5,
   "id": "3c06f11d",
   "metadata": {},
   "outputs": [],
   "source": [
    "parser = StrOutputParser()"
   ]
  },
  {
   "cell_type": "code",
   "execution_count": 6,
   "id": "b231dcd2",
   "metadata": {},
   "outputs": [],
   "source": [
    "prompt2 = PromptTemplate(\n",
    "    template='Explain the following fact - {text}',\n",
    "    input_variables=['text']\n",
    ")"
   ]
  },
  {
   "cell_type": "code",
   "execution_count": 7,
   "id": "d87456e8",
   "metadata": {},
   "outputs": [],
   "source": [
    "chain = RunnableSequence(prompt1, model, parser, prompt2, model, parser)"
   ]
  },
  {
   "cell_type": "code",
   "execution_count": 9,
   "id": "b30a09b4",
   "metadata": {},
   "outputs": [
    {
     "name": "stdout",
     "output_type": "stream",
     "text": [
      "The fact you provided refers to a record for the longest innings in Test cricket history. Here's a breakdown of the key details:\n",
      "\n",
      "- **Location and Opponents**: The record was set at The Oval in London, where England's cricket team played against Australia.\n",
      "- **Year**: This historic innings took place in 1926.\n",
      "- **Duration**: The innings lasted for 12 days, from August 10 to August 22, 1926.\n",
      "- **Number of Overs Batted**: England's team batted for an incredible 835.1 overs.\n",
      "- **Test Cricket Context**: Test cricket is a type of cricket played between national teams with a minimum duration of five days. In this case, the record-breaking innings lasted for 12 days, which is unusually long.\n",
      "\n",
      "The prolonged innings can be attributed to the limited understanding of bowling and batting strategies at that time. The England team was not knocked out or asked to follow on, meaning they were allowed to continue batting for their full allotted time. \n",
      "\n",
      "It's worth noting that Test cricket has undergone significant changes since then, including the introduction of limited-overs formats and more advanced bowling and batting strategies, making such prolonged innings unlikely in modern cricket.\n"
     ]
    }
   ],
   "source": [
    "print(chain.invoke({'topic':'Cricket'}))"
   ]
  },
  {
   "cell_type": "code",
   "execution_count": null,
   "id": "9d287dab",
   "metadata": {},
   "outputs": [],
   "source": []
  }
 ],
 "metadata": {
  "kernelspec": {
   "display_name": "langchain-runnables",
   "language": "python",
   "name": "python3"
  },
  "language_info": {
   "codemirror_mode": {
    "name": "ipython",
    "version": 3
   },
   "file_extension": ".py",
   "mimetype": "text/x-python",
   "name": "python",
   "nbconvert_exporter": "python",
   "pygments_lexer": "ipython3",
   "version": "3.13.1"
  }
 },
 "nbformat": 4,
 "nbformat_minor": 5
}
