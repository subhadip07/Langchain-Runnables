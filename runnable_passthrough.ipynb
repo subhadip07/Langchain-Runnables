{
 "cells": [
  {
   "cell_type": "markdown",
   "id": "82f699ad",
   "metadata": {},
   "source": [
    "### 2. RunnablePassthrough\n",
    "* RunnablePassthrough is a special Runnable primitive that simply returns the input as output without modifying it."
   ]
  },
  {
   "cell_type": "code",
   "execution_count": 1,
   "id": "36621aa9",
   "metadata": {},
   "outputs": [],
   "source": [
    "from langchain_groq import ChatGroq\n",
    "from langchain_core.prompts import PromptTemplate\n",
    "from langchain_core.output_parsers import StrOutputParser\n",
    "from dotenv import load_dotenv\n",
    "from langchain.schema.runnable import RunnableSequence, RunnableParallel, RunnablePassthrough"
   ]
  },
  {
   "cell_type": "code",
   "execution_count": 2,
   "id": "b2eea74e",
   "metadata": {},
   "outputs": [
    {
     "data": {
      "text/plain": [
       "True"
      ]
     },
     "execution_count": 2,
     "metadata": {},
     "output_type": "execute_result"
    }
   ],
   "source": [
    "load_dotenv()"
   ]
  },
  {
   "cell_type": "code",
   "execution_count": 3,
   "id": "a2bd3138",
   "metadata": {},
   "outputs": [],
   "source": [
    "prompt1 = PromptTemplate(\n",
    "    template='Write a joke about {topic}',\n",
    "    input_variables=['topic']\n",
    ")"
   ]
  },
  {
   "cell_type": "code",
   "execution_count": 4,
   "id": "db8300a7",
   "metadata": {},
   "outputs": [],
   "source": [
    "model = ChatGroq(model='llama-3.1-8b-instant')"
   ]
  },
  {
   "cell_type": "code",
   "execution_count": 5,
   "id": "8bb91434",
   "metadata": {},
   "outputs": [],
   "source": [
    "parser = StrOutputParser()"
   ]
  },
  {
   "cell_type": "code",
   "execution_count": 6,
   "id": "49e22b72",
   "metadata": {},
   "outputs": [],
   "source": [
    "prompt2 = PromptTemplate(\n",
    "    template='Explain the following joke - {text}',\n",
    "    input_variables=['text']\n",
    ")"
   ]
  },
  {
   "cell_type": "code",
   "execution_count": 7,
   "id": "aceca386",
   "metadata": {},
   "outputs": [],
   "source": [
    "joke_generation_chain = RunnableSequence(prompt1, model, parser)"
   ]
  },
  {
   "cell_type": "code",
   "execution_count": 8,
   "id": "ffd675c6",
   "metadata": {},
   "outputs": [],
   "source": [
    "parallel_chain = RunnableParallel({\n",
    "    'joke': RunnablePassthrough(),\n",
    "    'explanation': RunnableSequence(prompt2, model, parser)\n",
    "})"
   ]
  },
  {
   "cell_type": "code",
   "execution_count": 9,
   "id": "11197ce8",
   "metadata": {},
   "outputs": [],
   "source": [
    "final_chain = RunnableSequence(joke_generation_chain, parallel_chain)"
   ]
  },
  {
   "cell_type": "code",
   "execution_count": 10,
   "id": "9d7505a6",
   "metadata": {},
   "outputs": [
    {
     "name": "stdout",
     "output_type": "stream",
     "text": [
      "{'joke': 'Why did the football go to the doctor? \\n\\nBecause it was feeling a little deflated.', 'explanation': 'This joke is a play on words. The phrase \"feeling a little deflated\" has a double meaning here. \\n\\nIn everyday language, \"feeling a little deflated\" means feeling sad or depressed, as if a person\\'s energy or spirits have been lowered.\\n\\nHowever, in the context of this joke, \"deflated\" is also a reference to a football being deflated, or losing air. This is a clever pun, as footballs are typically inflated with air to maintain their shape and bounce.\\n\\nSo, the joke is saying that the football went to the doctor because it was feeling sad (deflated), but also making a clever connection to the fact that a deflated football is one that has lost air.'}\n"
     ]
    }
   ],
   "source": [
    "print(final_chain.invoke({'topic':'football'}))"
   ]
  },
  {
   "cell_type": "code",
   "execution_count": null,
   "id": "9b5623d7",
   "metadata": {},
   "outputs": [],
   "source": []
  }
 ],
 "metadata": {
  "kernelspec": {
   "display_name": "langchain-runnables",
   "language": "python",
   "name": "python3"
  },
  "language_info": {
   "codemirror_mode": {
    "name": "ipython",
    "version": 3
   },
   "file_extension": ".py",
   "mimetype": "text/x-python",
   "name": "python",
   "nbconvert_exporter": "python",
   "pygments_lexer": "ipython3",
   "version": "3.13.1"
  }
 },
 "nbformat": 4,
 "nbformat_minor": 5
}
